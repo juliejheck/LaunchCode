{
 "cells": [
  {
   "cell_type": "code",
   "execution_count": 2,
   "metadata": {},
   "outputs": [
    {
     "name": "stdout",
     "output_type": "stream",
     "text": [
      "37.77777777777778\n",
      "32.0\n",
      "32.0\n",
      "226800\n",
      "The GE train supplies 226800 Newtons of force.\n",
      "90000000000000000\n",
      "A 1kg bomb supplies 90000000000000000 Joules\n",
      "The GE train does 22680000 Joules of work over 100 meters\n"
     ]
    }
   ],
   "source": [
    "#farhenheit to celsius conversion\n",
    "\n",
    "def f_to_c(f_temp):\n",
    "  c_temp = ((f_temp) - 32) * 5/9\n",
    "  return c_temp\n",
    "\n",
    "f100_in_celcius = f_to_c(100)\n",
    "  #degrees_C = degrees_F_input * 2 + 30  \n",
    "\n",
    "print(f100_in_celcius)\n",
    "\n",
    "def c_to_f(c_temp):\n",
    "  f_temp = c_temp * (9/5) + 32\n",
    "  return f_temp\n",
    "print(c_to_f(0))\n",
    "\n",
    "c0_in_fahrenheit = c_to_f(0)\n",
    "print(c0_in_fahrenheit)\n",
    "\n",
    "\n",
    "#physics fun!\n",
    "\n",
    "train_mass = 22680\n",
    "train_acceleration = 10\n",
    "train_distance = 100\n",
    "bomb_mass = 1\n",
    "\n",
    "def get_force(mass, acceleration):\n",
    "  return mass * acceleration\n",
    "\n",
    "train_force = get_force(train_mass, train_acceleration)\n",
    "\n",
    "print(train_force)\n",
    "\n",
    "print(\"The GE train supplies \" + str(train_force) + \" Newtons of force.\")\n",
    "\n",
    "def get_energy(mass, c=3*10**8):\n",
    "  return mass * c**2\n",
    "\n",
    "bomb_energy = get_energy(bomb_mass, c=3*10**8)\n",
    "\n",
    "print(bomb_energy)\n",
    "print(\"A 1kg bomb supplies \" + str(bomb_energy) + \" Joules\")\n",
    "\n",
    "def get_work(mass, acceleration, distance):\n",
    "  #work = force * distance\n",
    "  force = get_force(mass, acceleration)\n",
    "  return force * distance\n",
    "\n",
    "train_work = get_work(train_mass, train_acceleration, train_distance)\n",
    "  \n",
    "print(\"The GE train does \" + str(train_work) + \" Joules of work over \"\n",
    " + str(train_distance) + \" meters\")  \n",
    "  \n",
    "\n"
   ]
  },
  {
   "cell_type": "code",
   "execution_count": null,
   "metadata": {},
   "outputs": [],
   "source": []
  }
 ],
 "metadata": {
  "kernelspec": {
   "display_name": "Python 3",
   "language": "python",
   "name": "python3"
  },
  "language_info": {
   "codemirror_mode": {
    "name": "ipython",
    "version": 3
   },
   "file_extension": ".py",
   "mimetype": "text/x-python",
   "name": "python",
   "nbconvert_exporter": "python",
   "pygments_lexer": "ipython3",
   "version": "3.7.3"
  }
 },
 "nbformat": 4,
 "nbformat_minor": 2
}
